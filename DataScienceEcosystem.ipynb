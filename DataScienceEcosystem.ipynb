{
 "cells": [
  {
   "cell_type": "markdown",
   "id": "cbdd85db-bb47-4d96-ba5c-54dcef418182",
   "metadata": {},
   "source": [
    "# Data Science Ecosystem"
   ]
  },
  {
   "cell_type": "markdown",
   "id": "7dc597d4-0f6a-4d57-8cbb-d717b0bb53b8",
   "metadata": {},
   "source": [
    "### In this notebook, Data Science Tools and Ecosystem are summarize "
   ]
  },
  {
   "cell_type": "markdown",
   "id": "a7b9e487-40fc-4ff5-a6c3-b79af0e7e011",
   "metadata": {},
   "source": [
    "### Some of the popular languages that Data Scientists use are:\n",
    "1. Python\n",
    "2. R\n",
    "3. SQL"
   ]
  },
  {
   "cell_type": "markdown",
   "id": "d60701c8-037e-47f1-8208-d6a7e32d7c6b",
   "metadata": {},
   "source": [
    "### **Objectives:**"
   ]
  },
  {
   "cell_type": "markdown",
   "id": "67fe09cd-96f8-41e2-9561-5968b8aa8472",
   "metadata": {},
   "source": [
    "### List popular languages for data science"
   ]
  },
  {
   "cell_type": "markdown",
   "id": "81da8043-743b-460b-b9ea-c75c19d3639d",
   "metadata": {},
   "source": [
    "### Java, SAS, Julia"
   ]
  },
  {
   "cell_type": "markdown",
   "id": "03a8f8c8-d089-4874-8ccf-d8e10b349e62",
   "metadata": {},
   "source": [
    "### Some of the commonly used libraries in Data Science are:\n",
    "1. Panda\n",
    "2. NumPy\n",
    "3. Matplotlib\n",
    "4. Seaborn\n",
    "5. Scikit-learn\n",
    "6. TensorFlow\n",
    "7. Keras\n",
    "8. Statsmodels"
   ]
  },
  {
   "cell_type": "markdown",
   "id": "20710ce2-14ce-4e00-8b01-0993fb1f7f89",
   "metadata": {},
   "source": [
    "### Data Science Tools\n",
    "|Data Science Rools|\n",
    "|------------------|\n",
    "|Jupyter notebook|\n",
    "|Rstudio|\n",
    "|Apache Hadoop|\n",
    "|Apache Spark|\n",
    "|Tableau|\n",
    "|Power BI|\n",
    "|Google Cloud Platform|\n",
    "|AWS (Amazon Web Services)| "
   ]
  },
  {
   "cell_type": "markdown",
   "id": "619cda82-0f36-4755-897e-f07becfb3761",
   "metadata": {},
   "source": [
    "### Below there are a few examples of evaluating arithmetrick expression in Python"
   ]
  },
  {
   "cell_type": "markdown",
   "id": "2426a386-507c-4828-a67d-0f081a8c1104",
   "metadata": {},
   "source": [
    "### This is simple arithmetric expression to multiply then add integers "
   ]
  },
  {
   "cell_type": "code",
   "execution_count": 27,
   "id": "b35451e1-311c-456d-9f69-84d9c7ebdc04",
   "metadata": {},
   "outputs": [
    {
     "data": {
      "text/plain": [
       "17"
      ]
     },
     "execution_count": 27,
     "metadata": {},
     "output_type": "execute_result"
    }
   ],
   "source": [
    "(3*4)+5"
   ]
  },
  {
   "cell_type": "markdown",
   "id": "fc55eed3-c873-4116-83e9-5545cf1571dd",
   "metadata": {},
   "source": [
    "### This will convert 200 minutes into hours by dividing by 60"
   ]
  },
  {
   "cell_type": "code",
   "execution_count": 30,
   "id": "268fa9ef-5589-4f20-a077-d728ee43470c",
   "metadata": {},
   "outputs": [
    {
     "data": {
      "text/plain": [
       "3.3333333333333335"
      ]
     },
     "execution_count": 30,
     "metadata": {},
     "output_type": "execute_result"
    }
   ],
   "source": [
    "200/60"
   ]
  },
  {
   "cell_type": "markdown",
   "id": "cbbb1886-8e53-4835-b9a2-22345f232b70",
   "metadata": {},
   "source": [
    "## Author\n",
    "***Damian Niemiec***"
   ]
  },
  {
   "cell_type": "code",
   "execution_count": null,
   "id": "65a2d8a8-6a63-4330-90ab-aa2938036529",
   "metadata": {},
   "outputs": [],
   "source": []
  }
 ],
 "metadata": {
  "kernelspec": {
   "display_name": "Python 3 (ipykernel)",
   "language": "python",
   "name": "python3"
  },
  "language_info": {
   "codemirror_mode": {
    "name": "ipython",
    "version": 3
   },
   "file_extension": ".py",
   "mimetype": "text/x-python",
   "name": "python",
   "nbconvert_exporter": "python",
   "pygments_lexer": "ipython3",
   "version": "3.12.7"
  }
 },
 "nbformat": 4,
 "nbformat_minor": 5
}
